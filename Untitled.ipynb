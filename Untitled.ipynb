{
 "cells": [
  {
   "cell_type": "code",
   "execution_count": 1,
   "metadata": {},
   "outputs": [],
   "source": [
    "import pymongo"
   ]
  },
  {
   "cell_type": "code",
   "execution_count": 3,
   "metadata": {},
   "outputs": [],
   "source": [
    "client = pymongo.MongoClient(\"mongodb://127.0.0.1:27017/\")"
   ]
  },
  {
   "cell_type": "code",
   "execution_count": 4,
   "metadata": {},
   "outputs": [],
   "source": [
    "mydb = client['Fields']"
   ]
  },
  {
   "cell_type": "code",
   "execution_count": 5,
   "metadata": {},
   "outputs": [],
   "source": [
    "fieldinfo = mydb.fieldinfoemation"
   ]
  },
  {
   "cell_type": "code",
   "execution_count": 6,
   "metadata": {},
   "outputs": [],
   "source": [
    "record =[{'manik':'datance'},{'pritam':'stock market'},{'manohar':'docter'}]"
   ]
  },
  {
   "cell_type": "code",
   "execution_count": 7,
   "metadata": {},
   "outputs": [
    {
     "data": {
      "text/plain": [
       "<pymongo.results.InsertManyResult at 0x2c048355b88>"
      ]
     },
     "execution_count": 7,
     "metadata": {},
     "output_type": "execute_result"
    }
   ],
   "source": [
    "fieldinfo.insert_many(record)"
   ]
  },
  {
   "cell_type": "code",
   "execution_count": 19,
   "metadata": {},
   "outputs": [],
   "source": [
    "record= [{\n",
    "    'name':'Manik',\n",
    "    'surname':'chitralwar',\n",
    "    'profession':'data scientist',\n",
    "    'age':24,\n",
    "    'about':'good person with a lot of hard working ability'\n",
    "}, {\n",
    "    'name':'pritam',\n",
    "    'surname':'jadhav',\n",
    "    'profession':'stock market',\n",
    "    'age':24,\n",
    "    'about':'gbh'\n",
    "},{\n",
    "    'name':'manohar',\n",
    "    'surname':'chitralwar',\n",
    "    'profession':'docter',\n",
    "    'age':20,\n",
    "    'about': 'brother'   \n",
    "}]"
   ]
  },
  {
   "cell_type": "code",
   "execution_count": 21,
   "metadata": {},
   "outputs": [
    {
     "data": {
      "text/plain": [
       "<pymongo.results.InsertManyResult at 0x2c04aead748>"
      ]
     },
     "execution_count": 21,
     "metadata": {},
     "output_type": "execute_result"
    }
   ],
   "source": [
    "fieldinfo.insert_many(record)"
   ]
  },
  {
   "cell_type": "code",
   "execution_count": 23,
   "metadata": {},
   "outputs": [
    {
     "data": {
      "text/plain": [
       "{'_id': ObjectId('60eab6420116899ed4b9dbab'), 'manik': 'data science'}"
      ]
     },
     "execution_count": 23,
     "metadata": {},
     "output_type": "execute_result"
    }
   ],
   "source": [
    "fieldinfo.find_one()"
   ]
  },
  {
   "cell_type": "code",
   "execution_count": 25,
   "metadata": {},
   "outputs": [],
   "source": [
    "fieldinfo.find_one(2)"
   ]
  },
  {
   "cell_type": "code",
   "execution_count": 32,
   "metadata": {},
   "outputs": [],
   "source": [
    "m = fieldinfo.find()"
   ]
  },
  {
   "cell_type": "code",
   "execution_count": 33,
   "metadata": {},
   "outputs": [
    {
     "name": "stdout",
     "output_type": "stream",
     "text": [
      "{'_id': ObjectId('60eab6420116899ed4b9dbab'), 'manik': 'data science'}\n",
      "{'_id': ObjectId('60eab6420116899ed4b9dbac'), 'pritam': 'stock market'}\n",
      "{'_id': ObjectId('60eab6420116899ed4b9dbad'), 'manohar': 'docter'}\n",
      "{'_id': ObjectId('60eabacc0116899ed4b9dbae'), 'name': 'Manik', 'surname': 'chitralwar', 'profession': 'data scientist', 'age': 24, 'about': 'good person with a lot of hard working ability'}\n",
      "{'_id': ObjectId('60eabacc0116899ed4b9dbaf'), 'name': 'pritam', 'surname': 'jadhav', 'profession': 'stock market', 'age': 24, 'about': 'gbh'}\n",
      "{'_id': ObjectId('60eabacc0116899ed4b9dbb0'), 'name': 'manohar', 'surname': 'chitralwar', 'profession': 'docter', 'age': 20, 'about': 'brother'}\n"
     ]
    }
   ],
   "source": [
    "for i in m :\n",
    "    print(i)"
   ]
  },
  {
   "cell_type": "code",
   "execution_count": 36,
   "metadata": {},
   "outputs": [
    {
     "name": "stdout",
     "output_type": "stream",
     "text": [
      "{'_id': ObjectId('60eabacc0116899ed4b9dbae'), 'name': 'Manik', 'surname': 'chitralwar', 'profession': 'data scientist', 'age': 24, 'about': 'good person with a lot of hard working ability'}\n"
     ]
    }
   ],
   "source": [
    "for i in fieldinfo.find({'name':'Manik'}):\n",
    "    print(i)"
   ]
  },
  {
   "cell_type": "code",
   "execution_count": 38,
   "metadata": {},
   "outputs": [
    {
     "name": "stdout",
     "output_type": "stream",
     "text": [
      "{'_id': ObjectId('60eabacc0116899ed4b9dbae'), 'name': 'Manik', 'surname': 'chitralwar', 'profession': 'data scientist', 'age': 24, 'about': 'good person with a lot of hard working ability'}\n",
      "{'_id': ObjectId('60eabacc0116899ed4b9dbaf'), 'name': 'pritam', 'surname': 'jadhav', 'profession': 'stock market', 'age': 24, 'about': 'gbh'}\n"
     ]
    }
   ],
   "source": [
    "for i in fieldinfo.find({'age':24}):\n",
    "    print(i)"
   ]
  },
  {
   "cell_type": "code",
   "execution_count": 39,
   "metadata": {},
   "outputs": [
    {
     "name": "stdout",
     "output_type": "stream",
     "text": [
      "{'_id': ObjectId('60eabacc0116899ed4b9dbae'), 'name': 'Manik', 'surname': 'chitralwar', 'profession': 'data scientist', 'age': 24, 'about': 'good person with a lot of hard working ability'}\n",
      "{'_id': ObjectId('60eabacc0116899ed4b9dbaf'), 'name': 'pritam', 'surname': 'jadhav', 'profession': 'stock market', 'age': 24, 'about': 'gbh'}\n",
      "{'_id': ObjectId('60eabacc0116899ed4b9dbb0'), 'name': 'manohar', 'surname': 'chitralwar', 'profession': 'docter', 'age': 20, 'about': 'brother'}\n"
     ]
    }
   ],
   "source": [
    "for i in fieldinfo.find({'age':{'$in':[24,20]}}):\n",
    "    print(i)"
   ]
  },
  {
   "cell_type": "code",
   "execution_count": 41,
   "metadata": {},
   "outputs": [
    {
     "name": "stdout",
     "output_type": "stream",
     "text": [
      "{'_id': ObjectId('60eabacc0116899ed4b9dbae'), 'name': 'Manik', 'surname': 'chitralwar', 'profession': 'data scientist', 'age': 24, 'about': 'good person with a lot of hard working ability'}\n",
      "{'_id': ObjectId('60eabacc0116899ed4b9dbaf'), 'name': 'pritam', 'surname': 'jadhav', 'profession': 'stock market', 'age': 24, 'about': 'gbh'}\n",
      "{'_id': ObjectId('60eabacc0116899ed4b9dbb0'), 'name': 'manohar', 'surname': 'chitralwar', 'profession': 'docter', 'age': 20, 'about': 'brother'}\n"
     ]
    }
   ],
   "source": [
    "for i in fieldinfo.find({'age':{'$lt':25}}):\n",
    "                         print(i)"
   ]
  },
  {
   "cell_type": "code",
   "execution_count": 46,
   "metadata": {},
   "outputs": [
    {
     "name": "stdout",
     "output_type": "stream",
     "text": [
      "{'_id': ObjectId('60eabacc0116899ed4b9dbae'), 'name': 'Manik', 'surname': 'chitralwar', 'profession': 'data scientist', 'age': 24, 'about': 'good person with a lot of hard working ability'}\n"
     ]
    }
   ],
   "source": [
    "for i in fieldinfo.find({'$and':[{'age':24},{\"profession\":'data scientist'}]}):\n",
    "    print(i)"
   ]
  },
  {
   "cell_type": "code",
   "execution_count": 48,
   "metadata": {},
   "outputs": [
    {
     "name": "stdout",
     "output_type": "stream",
     "text": [
      "{'_id': ObjectId('60eabacc0116899ed4b9dbae'), 'name': 'Manik', 'surname': 'chitralwar', 'profession': 'data scientist', 'age': 24, 'about': 'good person with a lot of hard working ability'}\n",
      "{'_id': ObjectId('60eabacc0116899ed4b9dbb0'), 'name': 'manohar', 'surname': 'chitralwar', 'profession': 'docter', 'age': 20, 'about': 'brother'}\n"
     ]
    }
   ],
   "source": [
    "for i in fieldinfo.find({'$and':[{'age':{'$gt':19}},{'surname':'chitralwar'}]}):\n",
    "    print(i)"
   ]
  },
  {
   "cell_type": "code",
   "execution_count": 54,
   "metadata": {},
   "outputs": [
    {
     "name": "stdout",
     "output_type": "stream",
     "text": [
      "{'_id': ObjectId('60eabacc0116899ed4b9dbaf'), 'name': 'pritam', 'surname': 'jadhav', 'profession': 'stock market', 'age': 24, 'about': 'gbh'}\n"
     ]
    }
   ],
   "source": [
    "for i in fieldinfo.find({'profession':'stock market','age':{'$lt':30}}):\n",
    "    print(i)"
   ]
  },
  {
   "cell_type": "code",
   "execution_count": 55,
   "metadata": {},
   "outputs": [],
   "source": [
    "exam = mydb.exam"
   ]
  },
  {
   "cell_type": "code",
   "execution_count": 56,
   "metadata": {},
   "outputs": [],
   "source": [
    "record= [\n",
    "    {\n",
    "        'name':'manik',\n",
    "        'class':12,\n",
    "        'diamention':{'h':150,'w':50},\n",
    "        'age':24\n",
    "    },\n",
    "    {\n",
    "        'name':'pritam',\n",
    "        'class':11,\n",
    "        'diamention':{'h':145,'w':60},\n",
    "        'age':24\n",
    "    },\n",
    "    {\n",
    "        'name':'manohar',\n",
    "        'class':8,\n",
    "        'diamention':{'h':120,'w':30},\n",
    "        'age':15\n",
    "    }\n",
    "]"
   ]
  },
  {
   "cell_type": "code",
   "execution_count": 57,
   "metadata": {},
   "outputs": [
    {
     "data": {
      "text/plain": [
       "<pymongo.results.InsertManyResult at 0x2c04ae6a508>"
      ]
     },
     "execution_count": 57,
     "metadata": {},
     "output_type": "execute_result"
    }
   ],
   "source": [
    "exam.insert_many(record)"
   ]
  },
  {
   "cell_type": "code",
   "execution_count": 60,
   "metadata": {},
   "outputs": [
    {
     "name": "stdout",
     "output_type": "stream",
     "text": [
      "{'_id': ObjectId('60eac9300116899ed4b9dbb1'), 'name': 'manik', 'class': 12, 'diamention': {'h': 150, 'w': 50}, 'age': 24}\n",
      "{'_id': ObjectId('60eac9300116899ed4b9dbb2'), 'name': 'pritam', 'class': 11, 'diamention': {'h': 145, 'w': 60}, 'age': 24}\n",
      "{'_id': ObjectId('60eac9300116899ed4b9dbb3'), 'name': 'manohar', 'class': 8, 'diamention': {'h': 120, 'w': 30}, 'age': 15}\n"
     ]
    }
   ],
   "source": [
    "for i in exam.find():\n",
    "    print(i)"
   ]
  },
  {
   "cell_type": "code",
   "execution_count": 65,
   "metadata": {},
   "outputs": [
    {
     "name": "stdout",
     "output_type": "stream",
     "text": [
      "{'_id': ObjectId('60eac9300116899ed4b9dbb1'), 'name': 'manik', 'class': 12, 'diamention': {'h': 150, 'w': 50}, 'age': 24}\n"
     ]
    }
   ],
   "source": [
    "for i in exam.find({'diamention.h':150}):\n",
    "    print(i)"
   ]
  },
  {
   "cell_type": "code",
   "execution_count": null,
   "metadata": {},
   "outputs": [],
   "source": []
  },
  {
   "cell_type": "code",
   "execution_count": null,
   "metadata": {},
   "outputs": [],
   "source": []
  },
  {
   "cell_type": "markdown",
   "metadata": {},
   "source": [
    "# updating json file in mongodb"
   ]
  },
  {
   "cell_type": "code",
   "execution_count": 66,
   "metadata": {},
   "outputs": [
    {
     "name": "stdout",
     "output_type": "stream",
     "text": [
      "{'_id': ObjectId('60eac9300116899ed4b9dbb1'), 'name': 'manik', 'class': 12, 'diamention': {'h': 150, 'w': 50}, 'age': 24}\n",
      "{'_id': ObjectId('60eac9300116899ed4b9dbb2'), 'name': 'pritam', 'class': 11, 'diamention': {'h': 145, 'w': 60}, 'age': 24}\n",
      "{'_id': ObjectId('60eac9300116899ed4b9dbb3'), 'name': 'manohar', 'class': 8, 'diamention': {'h': 120, 'w': 30}, 'age': 15}\n"
     ]
    }
   ],
   "source": [
    "for i in exam.find():\n",
    "    print(i)"
   ]
  },
  {
   "cell_type": "code",
   "execution_count": 77,
   "metadata": {},
   "outputs": [
    {
     "data": {
      "text/plain": [
       "<pymongo.results.UpdateResult at 0x2c04aa2a308>"
      ]
     },
     "execution_count": 77,
     "metadata": {},
     "output_type": "execute_result"
    }
   ],
   "source": [
    "exam.update_one({'name':'manik'},\n",
    "                {'$set':{'diamention.h':170, 'age':22},\n",
    "                '$currentDate': {\"lastmodified\":True}}\n",
    "               )"
   ]
  },
  {
   "cell_type": "code",
   "execution_count": 81,
   "metadata": {},
   "outputs": [
    {
     "data": {
      "text/plain": [
       "<pymongo.results.UpdateResult at 0x2c04aa4fc08>"
      ]
     },
     "execution_count": 81,
     "metadata": {},
     "output_type": "execute_result"
    }
   ],
   "source": [
    "exam.update_many({'age':{'$gt':20}},{'$set':{'age':25, 'diamention.h':140}, '$currentDate':{'lastmodified':True}})"
   ]
  },
  {
   "cell_type": "markdown",
   "metadata": {},
   "source": []
  },
  {
   "cell_type": "code",
   "execution_count": 86,
   "metadata": {},
   "outputs": [
    {
     "data": {
      "text/plain": [
       "<pymongo.results.UpdateResult at 0x2c04af1acc8>"
      ]
     },
     "execution_count": 86,
     "metadata": {},
     "output_type": "execute_result"
    }
   ],
   "source": [
    "exam.update_many({'diamention.w':{'$gt':50}},\n",
    "                 {'$set':{'class':'12'},'$currentDate':{\"lastmodified\":True}})"
   ]
  },
  {
   "cell_type": "code",
   "execution_count": 92,
   "metadata": {},
   "outputs": [
    {
     "data": {
      "text/plain": [
       "<pymongo.results.UpdateResult at 0x2c04aae5f08>"
      ]
     },
     "execution_count": 92,
     "metadata": {},
     "output_type": "execute_result"
    }
   ],
   "source": [
    "exam.replace_one({'name':'manik'},\n",
    "                 {'name':'leo','class':25,'diamention':{'h':160,'w':60},'age':24})"
   ]
  },
  {
   "cell_type": "code",
   "execution_count": 93,
   "metadata": {},
   "outputs": [
    {
     "data": {
      "text/plain": [
       "<pymongo.results.UpdateResult at 0x2c04aaf0f88>"
      ]
     },
     "execution_count": 93,
     "metadata": {},
     "output_type": "execute_result"
    }
   ],
   "source": [
    "exam.replace_one({'name':'leo'},\n",
    "                 {'name':'manik','class':25,'diamention':{'h':160,'w':60,'a':100},'age':24,'married':\"no\"})"
   ]
  },
  {
   "cell_type": "code",
   "execution_count": null,
   "metadata": {},
   "outputs": [],
   "source": []
  }
 ],
 "metadata": {
  "kernelspec": {
   "display_name": "Python 3",
   "language": "python",
   "name": "python3"
  },
  "language_info": {
   "codemirror_mode": {
    "name": "ipython",
    "version": 3
   },
   "file_extension": ".py",
   "mimetype": "text/x-python",
   "name": "python",
   "nbconvert_exporter": "python",
   "pygments_lexer": "ipython3",
   "version": "3.7.4"
  }
 },
 "nbformat": 4,
 "nbformat_minor": 2
}
