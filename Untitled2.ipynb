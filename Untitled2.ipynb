{
 "cells": [
  {
   "cell_type": "code",
   "execution_count": 1,
   "metadata": {},
   "outputs": [],
   "source": [
    "import pymongo\n"
   ]
  },
  {
   "cell_type": "code",
   "execution_count": 3,
   "metadata": {},
   "outputs": [],
   "source": [
    "client = pymongo.MongoClient(\"mongodb://127.0.0.1/27017\")"
   ]
  },
  {
   "cell_type": "code",
   "execution_count": 5,
   "metadata": {},
   "outputs": [],
   "source": [
    "mydb = client[\"people\"]\n",
    "peoplescore = mydb.peoplescore"
   ]
  },
  {
   "cell_type": "code",
   "execution_count": 6,
   "metadata": {},
   "outputs": [],
   "source": [
    "record = [ {\"user\":\"Krish\", \"subject\":\"Database\", \"score\":80}, \n",
    "    {\"user\":\"Amit\",  \"subject\":\"JavaScript\", \"score\":90}, \n",
    "    {\"user\":\"Amit\",  \"title\":\"Database\", \"score\":85}, \n",
    "    {\"user\":\"Krish\",  \"title\":\"JavaScript\", \"score\":75}, \n",
    "    {\"user\":\"Amit\",  \"title\":\"Data Science\", \"score\":60},\n",
    "    {\"user\":\"Krish\",  \"title\":\"Data Science\", \"score\":95}] "
   ]
  },
  {
   "cell_type": "code",
   "execution_count": 8,
   "metadata": {},
   "outputs": [
    {
     "data": {
      "text/plain": [
       "<pymongo.results.InsertManyResult at 0x228acd91748>"
      ]
     },
     "execution_count": 8,
     "metadata": {},
     "output_type": "execute_result"
    }
   ],
   "source": [
    "peoplescore.insert_many(record)"
   ]
  },
  {
   "cell_type": "code",
   "execution_count": 11,
   "metadata": {},
   "outputs": [
    {
     "name": "stdout",
     "output_type": "stream",
     "text": [
      "{'_id': ObjectId('60eb06e99b1066ffc816359d'), 'user': 'Krish', 'subject': 'Database', 'score': 80}\n",
      "{'_id': ObjectId('60eb06e99b1066ffc816359e'), 'user': 'Amit', 'subject': 'JavaScript', 'score': 90}\n",
      "{'_id': ObjectId('60eb06e99b1066ffc816359f'), 'user': 'Amit', 'title': 'Database', 'score': 85}\n",
      "{'_id': ObjectId('60eb06e99b1066ffc81635a0'), 'user': 'Krish', 'title': 'JavaScript', 'score': 75}\n",
      "{'_id': ObjectId('60eb06e99b1066ffc81635a1'), 'user': 'Amit', 'title': 'Data Science', 'score': 60}\n",
      "{'_id': ObjectId('60eb06e99b1066ffc81635a2'), 'user': 'Krish', 'title': 'Data Science', 'score': 95}\n"
     ]
    }
   ],
   "source": [
    "for i in peoplescore.find():\n",
    "    print(i)"
   ]
  },
  {
   "cell_type": "code",
   "execution_count": 16,
   "metadata": {},
   "outputs": [
    {
     "name": "stdout",
     "output_type": "stream",
     "text": [
      "{'_id': 'Krish', 'totalscore': 250}\n",
      "{'_id': 'Amit', 'totalscore': 235}\n"
     ]
    }
   ],
   "source": [
    "for i in peoplescore.aggregate([{'$group': {'_id':\"$user\",'totalscore':{'$sum':'$score'}}}]):\n",
    "    print(i)"
   ]
  },
  {
   "cell_type": "code",
   "execution_count": 20,
   "metadata": {},
   "outputs": [
    {
     "name": "stdout",
     "output_type": "stream",
     "text": [
      "{'_id': 'Amit', 'averagescore': 78.33333333333333}\n",
      "{'_id': 'Krish', 'averagescore': 83.33333333333333}\n"
     ]
    }
   ],
   "source": [
    "for i in peoplescore.aggregate([{'$group':{'_id':'$user', 'averagescore':{'$avg':'$score'}}}]):\n",
    "    print(i)"
   ]
  },
  {
   "cell_type": "code",
   "execution_count": 25,
   "metadata": {},
   "outputs": [
    {
     "ename": "TypeError",
     "evalue": "'UpdateResult' object is not iterable",
     "output_type": "error",
     "traceback": [
      "\u001b[1;31m---------------------------------------------------------------------------\u001b[0m",
      "\u001b[1;31mTypeError\u001b[0m                                 Traceback (most recent call last)",
      "\u001b[1;32m<ipython-input-25-3bee0e26c677>\u001b[0m in \u001b[0;36m<module>\u001b[1;34m\u001b[0m\n\u001b[1;32m----> 1\u001b[1;33m \u001b[1;32mfor\u001b[0m \u001b[0mi\u001b[0m \u001b[1;32min\u001b[0m \u001b[0mpeoplescore\u001b[0m\u001b[1;33m.\u001b[0m\u001b[0mupdate_many\u001b[0m\u001b[1;33m(\u001b[0m\u001b[1;33m{\u001b[0m\u001b[1;33m}\u001b[0m\u001b[1;33m,\u001b[0m\u001b[1;33m{\u001b[0m\u001b[1;34m\"$currentDate\"\u001b[0m\u001b[1;33m:\u001b[0m\u001b[1;33m{\u001b[0m\u001b[1;34m'lastmodified'\u001b[0m\u001b[1;33m:\u001b[0m\u001b[1;32mTrue\u001b[0m\u001b[1;33m}\u001b[0m\u001b[1;33m}\u001b[0m\u001b[1;33m)\u001b[0m\u001b[1;33m:\u001b[0m\u001b[1;33m\u001b[0m\u001b[1;33m\u001b[0m\u001b[0m\n\u001b[0m\u001b[0;32m      2\u001b[0m     \u001b[0mprint\u001b[0m\u001b[1;33m(\u001b[0m\u001b[0mi\u001b[0m\u001b[1;33m)\u001b[0m\u001b[1;33m\u001b[0m\u001b[1;33m\u001b[0m\u001b[0m\n",
      "\u001b[1;31mTypeError\u001b[0m: 'UpdateResult' object is not iterable"
     ]
    }
   ],
   "source": [
    "for i in peoplescore.update_many({},{\"$currentDate\":{'lastmodified':True}}):\n",
    "    print(i)"
   ]
  },
  {
   "cell_type": "code",
   "execution_count": 24,
   "metadata": {},
   "outputs": [
    {
     "data": {
      "text/plain": [
       "<pymongo.results.UpdateResult at 0x228af5bd248>"
      ]
     },
     "execution_count": 24,
     "metadata": {},
     "output_type": "execute_result"
    }
   ],
   "source": [
    "peoplescore.update_many({},{\"$currentDate\":{'lastmodified':True}})"
   ]
  },
  {
   "cell_type": "code",
   "execution_count": 31,
   "metadata": {},
   "outputs": [
    {
     "name": "stdout",
     "output_type": "stream",
     "text": [
      "{'_id': ObjectId('60eb06e99b1066ffc816359d'), 'subject': 'Database', 'score': 80}\n",
      "{'_id': ObjectId('60eb06e99b1066ffc816359e'), 'subject': 'JavaScript', 'score': 90}\n",
      "{'_id': ObjectId('60eb06e99b1066ffc816359f'), 'score': 85}\n",
      "{'_id': ObjectId('60eb06e99b1066ffc81635a0'), 'score': 75}\n",
      "{'_id': ObjectId('60eb06e99b1066ffc81635a1'), 'score': 60}\n",
      "{'_id': ObjectId('60eb06e99b1066ffc81635a2'), 'score': 95}\n"
     ]
    }
   ],
   "source": [
    "for i in peoplescore.aggregate([{'$project':{'subject':1, 'score':1}}]):\n",
    "    print(i)"
   ]
  },
  {
   "cell_type": "code",
   "execution_count": 32,
   "metadata": {},
   "outputs": [],
   "source": [
    "import pymongo\n"
   ]
  },
  {
   "cell_type": "code",
   "execution_count": 36,
   "metadata": {},
   "outputs": [
    {
     "ename": "SyntaxError",
     "evalue": "EOL while scanning string literal (<ipython-input-36-36861962c1a3>, line 1)",
     "output_type": "error",
     "traceback": [
      "\u001b[1;36m  File \u001b[1;32m\"<ipython-input-36-36861962c1a3>\"\u001b[1;36m, line \u001b[1;32m1\u001b[0m\n\u001b[1;33m    client = pymongo.MongoClient('mongodb://127.0.0.1/27017\")\u001b[0m\n\u001b[1;37m                                                             ^\u001b[0m\n\u001b[1;31mSyntaxError\u001b[0m\u001b[1;31m:\u001b[0m EOL while scanning string literal\n"
     ]
    }
   ],
   "source": [
    "client = pymongo.MongoClient('mongodb://127.0.0.1/27017\")"
   ]
  },
  {
   "cell_type": "code",
   "execution_count": null,
   "metadata": {},
   "outputs": [],
   "source": []
  }
 ],
 "metadata": {
  "kernelspec": {
   "display_name": "Python 3",
   "language": "python",
   "name": "python3"
  },
  "language_info": {
   "codemirror_mode": {
    "name": "ipython",
    "version": 3
   },
   "file_extension": ".py",
   "mimetype": "text/x-python",
   "name": "python",
   "nbconvert_exporter": "python",
   "pygments_lexer": "ipython3",
   "version": "3.7.4"
  }
 },
 "nbformat": 4,
 "nbformat_minor": 2
}
